{
 "cells": [
  {
   "cell_type": "markdown",
   "id": "6eb54d91-35e6-4121-87b2-81d7a8e3e89b",
   "metadata": {},
   "source": [
    "## 4.ipnbとの差分\n",
    "- アンサンブル学習"
   ]
  },
  {
   "cell_type": "code",
   "execution_count": 1,
   "id": "811cc81a-6480-4bef-b2a9-3b3f38da3732",
   "metadata": {},
   "outputs": [
    {
     "name": "stdout",
     "output_type": "stream",
     "text": [
      "../data/data_description.txt\n",
      "../data/sample_submit.csv\n",
      "../data/test.csv\n",
      "../data/train.csv\n",
      "../data/.ipynb_checkpoints\\sample_submit-checkpoint.csv\n",
      "../data/.ipynb_checkpoints\\test-checkpoint.csv\n",
      "../data/.ipynb_checkpoints\\train-checkpoint.csv\n"
     ]
    }
   ],
   "source": [
    "import numpy as np\n",
    "import pandas as pd\n",
    "import matplotlib.pyplot as plt\n",
    "import statsmodels.api as sm\n",
    "import datetime\n",
    "import seaborn as sns\n",
    "from sklearn.preprocessing import StandardScaler\n",
    "\n",
    "import os\n",
    "for dirname, _, filenames in os.walk('../data/'):\n",
    "    for filename in filenames:\n",
    "        print(os.path.join(dirname, filename))"
   ]
  },
  {
   "cell_type": "markdown",
   "id": "98ff8463-94ff-4aa6-900c-ec1cab968f34",
   "metadata": {
    "tags": []
   },
   "source": [
    "## 特徴量の生成"
   ]
  },
  {
   "cell_type": "code",
   "execution_count": 7,
   "id": "fb2f41ff-36d0-4ddb-8e4f-2743defdf252",
   "metadata": {},
   "outputs": [],
   "source": [
    "from sklearn.preprocessing import LabelEncoder\n",
    "import warnings\n",
    "warnings.filterwarnings('ignore')\n",
    "\n",
    "train_df = pd.read_csv('../data/train.csv')\n",
    "test_df = pd.read_csv('../data/test.csv')\n",
    "sample_sub = pd.read_csv('../data/sample_submit.csv')\n",
    "\n",
    "train_Id = train_df['index']\n",
    "test_Id = test_df['index']\n",
    "\n",
    "train_df.drop(columns=['index'])\n",
    "test_df.drop(columns=['index'])\n",
    "\n",
    "# set type label\n",
    "train_df['type'] = 'train'\n",
    "test_df['type'] = 'test'\n",
    "\n",
    "combined_df = pd.concat((train_df, test_df))"
   ]
  },
  {
   "cell_type": "markdown",
   "id": "8ed660af-2398-40a6-930d-f127afdf8f10",
   "metadata": {},
   "source": [
    "## ラベルエンコーディング\n",
    "参考：https://zenn.dev/yuto_mo/articles/131c49be5aee53　　、　https://www.salesanalytics.co.jp/datascience/datascience233/"
   ]
  },
  {
   "cell_type": "code",
   "execution_count": 8,
   "id": "b4237332-50db-4972-b444-747ff45ad130",
   "metadata": {},
   "outputs": [],
   "source": [
    "# labelエンコーディングの適応（Lot ShapeとLand ContourはOrdinalエンコーディングかも）\n",
    "cols = ('Lot Shape', 'Land Contour', 'Lot Config', 'Neighborhood', 'House Style', 'Roof Style', 'Central Air', 'Paved Drive', 'Sale Type', 'Sale Condition')\n",
    "for c in cols:\n",
    "    le = LabelEncoder()\n",
    "    combined_df[c] = le.fit_transform(combined_df[c])\n",
    "\n",
    "# Ordinalエンコーディング\n",
    "exterior_order=['Ex', 'Gd', 'TA']\n",
    "heating_QC_order=['Ex', 'Gd', 'TA']\n",
    "kitchen_QC_order=['Ex', 'Gd', 'TA', 'Fa']\n",
    "combined_df['Exter Qual'] = pd.Categorical(combined_df['Exter Qual'], categories=exterior_order, ordered=True).codes\n",
    "combined_df['Heating QC'] = pd.Categorical(combined_df['Heating QC'], categories=heating_QC_order, ordered=True).codes\n",
    "combined_df['Kitchen Qual'] = pd.Categorical(combined_df['Kitchen Qual'], categories=kitchen_QC_order, ordered=True).codes\n",
    "\n",
    "# One-Hotエンコーディングの適用（ElectricalはOrdinalエンコーディングかも）\n",
    "cols = ['MS Zoning', 'Bldg Type', 'Exterior 1st', 'Exterior 2nd', 'Foundation', 'Electrical']\n",
    "combined_df = pd.get_dummies(combined_df, columns=cols)\n"
   ]
  },
  {
   "cell_type": "markdown",
   "id": "248c5c0a-9506-493a-b940-58d4488543a2",
   "metadata": {},
   "source": [
    "### モデルの改良(特徴量の追加)"
   ]
  },
  {
   "cell_type": "code",
   "execution_count": 9,
   "id": "7ba97654-d914-468f-b12e-37d5540bc3c8",
   "metadata": {},
   "outputs": [],
   "source": [
    "combined_df['YrBltAndRemod']=combined_df['Year Built']+combined_df['Year Remod/Add']\n",
    "\n",
    "\n",
    "combined_df['TotalSF'] = combined_df['1st Flr SF'] + combined_df['2nd Flr SF']\n",
    "\n",
    "combined_df['Total_Bathrooms'] = (combined_df['Full Bath'] + (0.5 * combined_df['Half Bath']) +\n",
    "                               combined_df['Bsmt Full Bath'])\n",
    "\n",
    "combined_df['Total_porch_sf'] = (combined_df['Open Porch SF'] + combined_df['Wood Deck SF'])"
   ]
  },
  {
   "cell_type": "markdown",
   "id": "efe41d3f-9149-4e43-a0fb-8ae3af0b7efc",
   "metadata": {},
   "source": [
    "### EDA"
   ]
  },
  {
   "cell_type": "code",
   "execution_count": 10,
   "id": "4e2191ed-45af-4f18-9d99-3fb926dc78ab",
   "metadata": {},
   "outputs": [
    {
     "name": "stdout",
     "output_type": "stream",
     "text": [
      "(3000, 76) (3000,) (2000, 76)\n"
     ]
    }
   ],
   "source": [
    "# trainとtestに分けなおす\n",
    "train_df = combined_df[combined_df['type'] == 'train']\n",
    "test_df = combined_df[combined_df['type'] == 'test'].drop(columns=['SalePrice'])\n",
    "\n",
    "# 学習に不要な特徴量を削除\n",
    "train_df = train_df.drop(columns=['type'])\n",
    "test_df = test_df.drop(columns=['type'])\n",
    "\n",
    "# 評価データ作成\n",
    "X_train = train_df.drop(\"SalePrice\", axis=1)\n",
    "y_train = train_df[\"SalePrice\"]\n",
    "X_test  = test_df\n",
    "\n",
    "print(X_train.shape, y_train.shape, X_test.shape)"
   ]
  },
  {
   "cell_type": "markdown",
   "id": "60ceda15-c510-4ca9-88c4-113e3227a8e4",
   "metadata": {},
   "source": [
    "### LightGBM（スタッキング）"
   ]
  },
  {
   "cell_type": "code",
   "execution_count": null,
   "id": "e57084a3-b2cf-4f71-9383-d67db12bfdd0",
   "metadata": {},
   "outputs": [],
   "source": [
    "import numpy as np\n",
    "import pandas as pd\n",
    "import lightgbm as lgb\n",
    "\n",
    "from sklearn.metrics import mean_squared_error\n",
    "from sklearn.model_selection import KFold, train_test_split\n",
    "from sklearn.datasets import fetch_california_housing\n",
    "from sklearn.linear_model import Ridge\n",
    "from sklearn.model_selection import GridSearchCV\n",
    "\n",
    "\n",
    "\n",
    "train_x, test_x, train_y, test_y = train_test_split(X_train, y_train, test_size=0.2)\n",
    "\n",
    "train_x.reset_index(drop=True, inplace=True)\n",
    "train_y.reset_index(drop=True, inplace=True)\n",
    "\n",
    "test_x.reset_index(drop=True, inplace=True)\n",
    "test_y.reset_index(drop=True, inplace=True)\n",
    "\n",
    "# from nyaggle.\n",
    "# https://github.com/nyanp/nyaggle/blob/master/nyaggle/hyper_parameters/lightgbm.py\n",
    "params1 = {\n",
    "    'learning_rate': 0.010483325415223356,\n",
    "    'num_leaves': 84, \n",
    "    'min_data_in_leaf': 33,\n",
    "    'min_sum_hessian_in_leaf': 19,\n",
    "    'bagging_fraction': 0.9450149619063936,\n",
    "    'bagging_freq': 3,\n",
    "    'feature_fraction': 0.2850025254034501,\n",
    "    'metric': 'rmse'\n",
    "}\n",
    "\n",
    "params2 = {\n",
    "    'num_leaves': 333,\n",
    "    'min_child_weight': 0.03454472573214212,\n",
    "    'feature_fraction': 0.3797454081646243,\n",
    "    'bagging_fraction': 0.4181193142567742,\n",
    "    'min_data_in_leaf': 106,\n",
    "    'max_depth': -1,\n",
    "    'learning_rate': 0.006883242363721497,\n",
    "    'reg_alpha': 0.3899927210061127,\n",
    "    'reg_lambda': 0.6485237330340494,\n",
    "    \"n_estimators\": 10000,\n",
    "    \"early_stopping_rounds\": 50,\n",
    "    'metric': 'rmse'\n",
    "}\n",
    "\n",
    "# Only this, Optuna tuning result\n",
    "params3 = {\n",
    "    'bagging_fraction': 1.0,\n",
    "    'bagging_freq': 0,\n",
    "    'feature_fraction': 0.8,\n",
    "    'lambda_l1': 0.4987678118854316,\n",
    "    'lambda_l2': 0.046572639037250035,\n",
    "    'min_child_samples': 20,\n",
    "    'num_leaves': 98,\n",
    "    \"n_estimators\": 10000,\n",
    "    \"early_stopping_rounds\": 50,\n",
    "    'metric': 'rmse'\n",
    "}\n",
    "\n",
    "\n",
    "def cross_val(cv, model):\n",
    "    preds_y = np.zeros(len(test_x))\n",
    "    preds_oof = np.zeros(len(train_y))\n",
    "    for trn_idx, val_idx in cv.split(train_x):\n",
    "        trn_x, trn_y = train_x.iloc[trn_idx, :], train_y[trn_idx]\n",
    "        val_x, val_y = train_x.iloc[val_idx, :], train_y[val_idx]\n",
    "        model.fit(\n",
    "                trn_x, trn_y, \n",
    "                eval_set=[(val_x, val_y)]\n",
    "        )\n",
    "        preds_oof[val_idx] = model.predict(val_x)\n",
    "        preds_y += model.predict(test_x) / 3.0\n",
    "    return preds_y, preds_oof\n",
    "\n",
    "\n",
    "def stacking(preds_test, preds_oof):\n",
    "    train_y_oof = np.stack(preds_oof, axis=1)\n",
    "    preds_y_stacked = np.stack(preds_test, axis=1)\n",
    "    estimator = Ridge(random_state=0, alpha=0.001)\n",
    "    param_grid = {\n",
    "        'alpha': [0.001, 0.01, 0.1, 1, 10],\n",
    "    }\n",
    "    grid_search = GridSearchCV(estimator, param_grid)\n",
    "    grid_search.fit(train_y_oof, train_y)\n",
    "    estimator = grid_search.best_estimator_\n",
    "    preds_y = estimator.predict(preds_y_stacked)\n",
    "    return preds_y\n",
    "\n",
    "\n",
    "cv1 = KFold(n_splits=3, shuffle=True, random_state=1)\n",
    "model1 = lgb.LGBMRegressor(**params1)\n",
    "preds_y1, preds_oof1 = cross_val(cv1, model1)\n",
    "\n",
    "cv2 = KFold(n_splits=3, shuffle=True, random_state=2)\n",
    "model2 = lgb.LGBMRegressor(**params2)\n",
    "preds_y2, preds_oof2 = cross_val(cv2, model2)\n",
    "\n",
    "cv3 = KFold(n_splits=3, shuffle=True, random_state=3)\n",
    "model3 = lgb.LGBMRegressor(**params3)\n",
    "preds_y3, preds_oof3 = cross_val(cv3, model3)\n",
    "\n",
    "preds_test = [preds_y1, preds_y2, preds_y3]\n",
    "preds_oof = [preds_oof1, preds_oof2, preds_oof3]\n",
    "preds_y_stacking = preds_y_stacked = stacking(preds_test, preds_oof)\n",
    "preds_y_ensemble = np.mean([preds_y1, preds_y2, preds_y3], axis=0)\n",
    "\n",
    "print(\"Stacking\", np.sqrt(mean_squared_error(test_y, preds_y_stacking)))\n",
    "print(\"Ensemble\", np.sqrt(mean_squared_error(test_y, preds_y_ensemble)))\n",
    "\n",
    "test_preds = stacking(preds_test, preds_oof)\n",
    "\n",
    "submission = pd.read_csv('../data/sample_submit.csv', header=None, names=['index', 'SalePrice'])\n",
    "submission['SalePrice']  = test_preds\n",
    "display(submission.head(10))"
   ]
  },
  {
   "cell_type": "code",
   "execution_count": null,
   "id": "5e407861-dd3d-48e0-be57-27b871337e6f",
   "metadata": {},
   "outputs": [],
   "source": [
    "import pandas as pd\n",
    "import numpy as np\n",
    "from sklearn.model_selection import KFold\n",
    "from sklearn.linear_model import Ridge\n",
    "import lightgbm as lgb\n",
    "\n",
    "# データの準備（ここではダミーデータを使用）\n",
    "X = np.random.rand(1000, 10)\n",
    "y = np.random.rand(1000)\n",
    "\n",
    "# 1段目のLightGBMモデルの設定\n",
    "lgb_params1 = {'objective': 'regression', 'metric': 'rmse', 'num_leaves': 31, 'learning_rate': 0.05}\n",
    "lgb_params2 = {'objective': 'regression', 'metric': 'rmse', 'num_leaves': 63, 'learning_rate': 0.1}\n",
    "lgb_params3 = {'objective': 'regression', 'metric': 'rmse', 'num_leaves': 127, 'learning_rate': 0.2}\n",
    "\n",
    "# 交差検証の設定\n",
    "kf = KFold(n_splits=5, shuffle=True, random_state=42)\n",
    "\n",
    "# 1段目の学習と予測\n",
    "lgb_oof = np.zeros((X.shape[0], 3))\n",
    "for train_idx, val_idx in kf.split(X):\n",
    "    X_train, X_val = X[train_idx], X[val_idx]\n",
    "    y_train, y_val = y[train_idx], y[val_idx]\n",
    "    \n",
    "    lgb_train = lgb.Dataset(X_train, y_train)\n",
    "    lgb_val = lgb.Dataset(X_val, y_val)\n",
    "    \n",
    "    model1 = lgb.train(lgb_params1, lgb_train, num_boost_round=100, valid_sets=[lgb_val])\n",
    "    model2 = lgb.train(lgb_params2, lgb_train, num_boost_round=100, valid_sets=[lgb_val])\n",
    "    model3 = lgb.train(lgb_params3, lgb_train, num_boost_round=100, valid_sets=[lgb_val])\n",
    "    \n",
    "    lgb_oof[val_idx, 0] = model1.predict(X_val)\n",
    "    lgb_oof[val_idx, 1] = model2.predict(X_val)\n",
    "    lgb_oof[val_idx, 2] = model3.predict(X_val)\n",
    "\n",
    "# 2段目の学習（Ridge回帰）\n",
    "ridge_model = Ridge(alpha=1.0)\n",
    "ridge_model.fit(lgb_oof, y)\n",
    "\n",
    "# 最終予測\n",
    "final_pred = ridge_model.predict(lgb_oof)\n",
    "\n",
    "# 評価（ここではRMSEを使用）\n",
    "rmse = np.sqrt(np.mean((y - final_pred)**2))\n",
    "print(f\"RMSE: {rmse}\")\n"
   ]
  },
  {
   "cell_type": "code",
   "execution_count": 21,
   "id": "b617b59e-54f8-49b6-a170-32188d8e4177",
   "metadata": {},
   "outputs": [
    {
     "data": {
      "text/html": [
       "<div>\n",
       "<style scoped>\n",
       "    .dataframe tbody tr th:only-of-type {\n",
       "        vertical-align: middle;\n",
       "    }\n",
       "\n",
       "    .dataframe tbody tr th {\n",
       "        vertical-align: top;\n",
       "    }\n",
       "\n",
       "    .dataframe thead th {\n",
       "        text-align: right;\n",
       "    }\n",
       "</style>\n",
       "<table border=\"1\" class=\"dataframe\">\n",
       "  <thead>\n",
       "    <tr style=\"text-align: right;\">\n",
       "      <th></th>\n",
       "      <th>importances</th>\n",
       "    </tr>\n",
       "    <tr>\n",
       "      <th>feature_names</th>\n",
       "      <th></th>\n",
       "    </tr>\n",
       "  </thead>\n",
       "  <tbody>\n",
       "    <tr>\n",
       "      <th>Garage_Cars</th>\n",
       "      <td>1.146401e+12</td>\n",
       "    </tr>\n",
       "    <tr>\n",
       "      <th>Garage_Area</th>\n",
       "      <td>6.568590e+11</td>\n",
       "    </tr>\n",
       "    <tr>\n",
       "      <th>Total_Bsmt_SF</th>\n",
       "      <td>5.459923e+11</td>\n",
       "    </tr>\n",
       "    <tr>\n",
       "      <th>Year_Built</th>\n",
       "      <td>5.325069e+11</td>\n",
       "    </tr>\n",
       "    <tr>\n",
       "      <th>BsmtFin_SF_1</th>\n",
       "      <td>5.237901e+11</td>\n",
       "    </tr>\n",
       "    <tr>\n",
       "      <th>Bsmt_Unf_SF</th>\n",
       "      <td>4.670750e+11</td>\n",
       "    </tr>\n",
       "    <tr>\n",
       "      <th>Total_Bathrooms</th>\n",
       "      <td>4.558220e+11</td>\n",
       "    </tr>\n",
       "    <tr>\n",
       "      <th>Full_Bath</th>\n",
       "      <td>4.214785e+11</td>\n",
       "    </tr>\n",
       "    <tr>\n",
       "      <th>index</th>\n",
       "      <td>4.149187e+11</td>\n",
       "    </tr>\n",
       "    <tr>\n",
       "      <th>Gr_Liv_Area</th>\n",
       "      <td>4.088816e+11</td>\n",
       "    </tr>\n",
       "  </tbody>\n",
       "</table>\n",
       "</div>"
      ],
      "text/plain": [
       "                  importances\n",
       "feature_names                \n",
       "Garage_Cars      1.146401e+12\n",
       "Garage_Area      6.568590e+11\n",
       "Total_Bsmt_SF    5.459923e+11\n",
       "Year_Built       5.325069e+11\n",
       "BsmtFin_SF_1     5.237901e+11\n",
       "Bsmt_Unf_SF      4.670750e+11\n",
       "Total_Bathrooms  4.558220e+11\n",
       "Full_Bath        4.214785e+11\n",
       "index            4.149187e+11\n",
       "Gr_Liv_Area      4.088816e+11"
      ]
     },
     "metadata": {},
     "output_type": "display_data"
    },
    {
     "data": {
      "text/plain": [
       "<Axes: xlabel='importances', ylabel='feature_names'>"
      ]
     },
     "execution_count": 21,
     "metadata": {},
     "output_type": "execute_result"
    },
    {
     "data": {
      "image/png": "[encoded data removed]",
      "text/plain": [
       "<Figure size 640x480 with 1 Axes>"
      ]
     },
     "metadata": {},
     "output_type": "display_data"
    }
   ],
   "source": [
    "# 特徴量重要度の平均を算出して表を出力\n",
    "display(feature_importance_df.groupby(\"feature_names\").mean().sort_values(\"importances\", ascending=False).head(10))\n",
    "# 特徴量重要度を棒グラフで可視化\n",
    "sns.barplot(x=\"importances\", y=\"feature_names\", \n",
    "            data=feature_importance_df.groupby(\"feature_names\").mean().sort_values(\"importances\", ascending=False)[:10].reset_index()\n",
    "           )"
   ]
  },
  {
   "cell_type": "code",
   "execution_count": 23,
   "id": "eba9e309-d0fb-48fa-ad2d-94e6a0acfd48",
   "metadata": {},
   "outputs": [],
   "source": [
    "# 提出ファイルを出力\n",
    "submission.to_csv(\"fifth_submit.csv\", index=False, header = False)"
   ]
  },
  {
   "cell_type": "markdown",
   "id": "0d2509af-3935-4fa3-957a-7485e3d6c880",
   "metadata": {},
   "source": [
    "#### 参考サイト\n",
    "https://qiita.com/ku_a_i/items/74241c84cda8c7327277\n",
    "パラメータチューニング：　https://zenn.dev/robes/articles/d53ff6d665650f"
   ]
  },
  {
   "cell_type": "markdown",
   "id": "11f52c02-e932-448b-bcd7-d5ac026a86b8",
   "metadata": {},
   "source": [
    "上記のコードよくわからなかった\n",
    "これやろうかな→https://www.kaggle.com/code/kojisan2020/simple-stacking"
   ]
  }
 ],
 "metadata": {
  "kernelspec": {
   "display_name": "Python 3 (ipykernel)",
   "language": "python",
   "name": "python3"
  },
  "language_info": {
   "codemirror_mode": {
    "name": "ipython",
    "version": 3
   },
   "file_extension": ".py",
   "mimetype": "text/x-python",
   "name": "python",
   "nbconvert_exporter": "python",
   "pygments_lexer": "ipython3",
   "version": "3.9.19"
  }
 },
 "nbformat": 4,
 "nbformat_minor": 5
}
