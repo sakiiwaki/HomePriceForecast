{
 "cells": [
  {
   "cell_type": "markdown",
   "id": "6eb54d91-35e6-4121-87b2-81d7a8e3e89b",
   "metadata": {},
   "source": [
    "## 1.ipnbとの差分\n",
    "- モデルの改良(パラメータを増やした)\n",
    "- 重要度を可視化"
   ]
  },
  {
   "cell_type": "code",
   "execution_count": 13,
   "id": "811cc81a-6480-4bef-b2a9-3b3f38da3732",
   "metadata": {},
   "outputs": [
    {
     "name": "stdout",
     "output_type": "stream",
     "text": [
      "../data/data_description.txt\n",
      "../data/sample_submit.csv\n",
      "../data/test.csv\n",
      "../data/train.csv\n",
      "../data/.ipynb_checkpoints\\sample_submit-checkpoint.csv\n",
      "../data/.ipynb_checkpoints\\test-checkpoint.csv\n",
      "../data/.ipynb_checkpoints\\train-checkpoint.csv\n"
     ]
    }
   ],
   "source": [
    "import numpy as np\n",
    "import pandas as pd\n",
    "import matplotlib.pyplot as plt\n",
    "import statsmodels.api as sm\n",
    "import datetime\n",
    "import seaborn as sns\n",
    "from sklearn.preprocessing import StandardScaler\n",
    "\n",
    "import os\n",
    "for dirname, _, filenames in os.walk('../data/'):\n",
    "    for filename in filenames:\n",
    "        print(os.path.join(dirname, filename))"
   ]
  },
  {
   "cell_type": "markdown",
   "id": "98ff8463-94ff-4aa6-900c-ec1cab968f34",
   "metadata": {
    "tags": []
   },
   "source": [
    "## 特徴量の生成"
   ]
  },
  {
   "cell_type": "code",
   "execution_count": 14,
   "id": "fb2f41ff-36d0-4ddb-8e4f-2743defdf252",
   "metadata": {},
   "outputs": [],
   "source": [
    "from sklearn.preprocessing import LabelEncoder\n",
    "import warnings\n",
    "warnings.filterwarnings('ignore')\n",
    "\n",
    "train_df = pd.read_csv('../data/train.csv')\n",
    "test_df = pd.read_csv('../data/test.csv')\n",
    "sample_sub = pd.read_csv('../data/sample_submit.csv')\n",
    "\n",
    "train_Id = train_df['index']\n",
    "test_Id = test_df['index']\n",
    "\n",
    "train_df.drop(columns=['index','Order'])\n",
    "test_df.drop(columns=['index','Order'])\n",
    "\n",
    "# set type label\n",
    "train_df['type'] = 'train'\n",
    "test_df['type'] = 'test'\n",
    "\n",
    "combined_df = pd.concat((train_df, test_df))"
   ]
  },
  {
   "cell_type": "markdown",
   "id": "8ed660af-2398-40a6-930d-f127afdf8f10",
   "metadata": {},
   "source": [
    "## ラベルエンコーディング\n",
    "参考：https://zenn.dev/yuto_mo/articles/131c49be5aee53　　、　https://www.salesanalytics.co.jp/datascience/datascience233/"
   ]
  },
  {
   "cell_type": "code",
   "execution_count": 15,
   "id": "b4237332-50db-4972-b444-747ff45ad130",
   "metadata": {},
   "outputs": [],
   "source": [
    "# labelエンコーディングの適応（Lot ShapeとLand ContourはOrdinalエンコーディングかも）\n",
    "cols = ('Lot Shape', 'Land Contour', 'Lot Config', 'Neighborhood', 'House Style', 'Roof Style', 'Central Air', 'Paved Drive', 'Sale Type', 'Sale Condition')\n",
    "for c in cols:\n",
    "    le = LabelEncoder()\n",
    "    combined_df[c] = le.fit_transform(combined_df[c])\n",
    "\n",
    "# Ordinalエンコーディング\n",
    "exterior_order=['Ex', 'Gd', 'TA']\n",
    "heating_QC_order=['Ex', 'Gd', 'TA']\n",
    "kitchen_QC_order=['Ex', 'Gd', 'TA', 'Fa']\n",
    "combined_df['Exter Qual'] = pd.Categorical(combined_df['Exter Qual'], categories=exterior_order, ordered=True).codes\n",
    "combined_df['Heating QC'] = pd.Categorical(combined_df['Heating QC'], categories=heating_QC_order, ordered=True).codes\n",
    "combined_df['Kitchen Qual'] = pd.Categorical(combined_df['Kitchen Qual'], categories=kitchen_QC_order, ordered=True).codes\n",
    "\n",
    "# One-Hotエンコーディングの適用（ElectricalはOrdinalエンコーディングかも）\n",
    "cols = ['MS Zoning', 'Bldg Type', 'Exterior 1st', 'Exterior 2nd', 'Foundation', 'Electrical']\n",
    "combined_df = pd.get_dummies(combined_df, columns=cols)\n"
   ]
  },
  {
   "cell_type": "markdown",
   "id": "248c5c0a-9506-493a-b940-58d4488543a2",
   "metadata": {},
   "source": [
    "### モデルの改良(特徴量の追加)"
   ]
  },
  {
   "cell_type": "code",
   "execution_count": 16,
   "id": "7ba97654-d914-468f-b12e-37d5540bc3c8",
   "metadata": {},
   "outputs": [],
   "source": [
    "combined_df['YrBltAndRemod']=combined_df['Year Built']+combined_df['Year Remod/Add']\n",
    "\n",
    "combined_df['TotalSF'] = combined_df['1st Flr SF'] + combined_df['2nd Flr SF']\n",
    "\n",
    "combined_df['Total_sqr_footage'] = (combined_df['BsmtFin SF 1'] + \n",
    "                                 combined_df['1st Flr SF'] + combined_df['2nd Flr SF'])\n",
    "\n",
    "combined_df['Total_Bathrooms'] = (combined_df['Full Bath'] + (0.5 * combined_df['Half Bath']) +\n",
    "                               combined_df['Bsmt Full Bath'])\n",
    "\n",
    "combined_df['Total_porch_sf'] = (combined_df['Open Porch SF'] + combined_df['Wood Deck SF'])"
   ]
  },
  {
   "cell_type": "markdown",
   "id": "efe41d3f-9149-4e43-a0fb-8ae3af0b7efc",
   "metadata": {},
   "source": [
    "### EDA"
   ]
  },
  {
   "cell_type": "code",
   "execution_count": 17,
   "id": "4e2191ed-45af-4f18-9d99-3fb926dc78ab",
   "metadata": {},
   "outputs": [
    {
     "name": "stdout",
     "output_type": "stream",
     "text": [
      "(3000, 77) (3000,) (2000, 77)\n"
     ]
    }
   ],
   "source": [
    "# trainとtestに分けなおす\n",
    "train_df = combined_df[combined_df['type'] == 'train']\n",
    "test_df = combined_df[combined_df['type'] == 'test'].drop(columns=['SalePrice'])\n",
    "\n",
    "# 学習に不要な特徴量を削除\n",
    "train_df = train_df.drop(columns=['type'])\n",
    "test_df = test_df.drop(columns=['type'])\n",
    "\n",
    "# 評価データ作成\n",
    "X_train = train_df.drop(\"SalePrice\", axis=1)\n",
    "y_train = train_df[\"SalePrice\"]\n",
    "X_test  = test_df\n",
    "\n",
    "print(X_train.shape, y_train.shape, X_test.shape)"
   ]
  },
  {
   "cell_type": "markdown",
   "id": "0e99ef81-908b-46ea-bcdf-9691a38965de",
   "metadata": {},
   "source": [
    "#### LightGBM"
   ]
  },
  {
   "cell_type": "code",
   "execution_count": 23,
   "id": "3af6f68b-66bf-4a49-bf12-4679ab08068e",
   "metadata": {},
   "outputs": [
    {
     "name": "stdout",
     "output_type": "stream",
     "text": [
      "[LightGBM] [Warning] Found whitespace in feature_names, replace with underlines\n",
      "[LightGBM] [Info] Auto-choosing col-wise multi-threading, the overhead of testing was 0.000597 seconds.\n",
      "You can set `force_col_wise=true` to remove the overhead.\n",
      "[LightGBM] [Info] Total Bins 2881\n",
      "[LightGBM] [Info] Number of data points in the train set: 2000, number of used features: 57\n",
      "[LightGBM] [Warning] Found whitespace in feature_names, replace with underlines\n",
      "[LightGBM] [Info] Start training from score 150495.585000\n",
      "Training until validation scores don't improve for 100 rounds\n",
      "[10]\tvalid_0's rmse: 28080.1\n",
      "[20]\tvalid_0's rmse: 28107.6\n",
      "[30]\tvalid_0's rmse: 28142.6\n",
      "[40]\tvalid_0's rmse: 28247.3\n",
      "[50]\tvalid_0's rmse: 28459.3\n",
      "[60]\tvalid_0's rmse: 28533.8\n",
      "[70]\tvalid_0's rmse: 28644.8\n",
      "[80]\tvalid_0's rmse: 28711.2\n",
      "[90]\tvalid_0's rmse: 28756.1\n",
      "[100]\tvalid_0's rmse: 28825.7\n",
      "[110]\tvalid_0's rmse: 28920.4\n",
      "Early stopping, best iteration is:\n",
      "[13]\tvalid_0's rmse: 28016.5\n",
      "RMSE: 28016.466428316155\n",
      "[LightGBM] [Warning] Found whitespace in feature_names, replace with underlines\n",
      "[LightGBM] [Info] Auto-choosing col-wise multi-threading, the overhead of testing was 0.000546 seconds.\n",
      "You can set `force_col_wise=true` to remove the overhead.\n",
      "[LightGBM] [Info] Total Bins 2887\n",
      "[LightGBM] [Info] Number of data points in the train set: 2000, number of used features: 58\n",
      "[LightGBM] [Warning] Found whitespace in feature_names, replace with underlines\n",
      "[LightGBM] [Info] Start training from score 150360.935000\n",
      "Training until validation scores don't improve for 100 rounds\n",
      "[10]\tvalid_0's rmse: 27013.8\n",
      "[20]\tvalid_0's rmse: 26539.5\n",
      "[30]\tvalid_0's rmse: 26604.8\n",
      "[40]\tvalid_0's rmse: 26791.3\n",
      "[50]\tvalid_0's rmse: 26903.3\n",
      "[60]\tvalid_0's rmse: 27080.6\n",
      "[70]\tvalid_0's rmse: 27139.6\n",
      "[80]\tvalid_0's rmse: 27211.4\n",
      "[90]\tvalid_0's rmse: 27297.3\n",
      "[100]\tvalid_0's rmse: 27384.8\n",
      "[110]\tvalid_0's rmse: 27463.7\n",
      "[120]\tvalid_0's rmse: 27471.7\n",
      "Early stopping, best iteration is:\n",
      "[21]\tvalid_0's rmse: 26514.7\n",
      "RMSE: 26514.69247199764\n",
      "[LightGBM] [Warning] Found whitespace in feature_names, replace with underlines\n",
      "[LightGBM] [Info] Auto-choosing col-wise multi-threading, the overhead of testing was 0.000545 seconds.\n",
      "You can set `force_col_wise=true` to remove the overhead.\n",
      "[LightGBM] [Info] Total Bins 2886\n",
      "[LightGBM] [Info] Number of data points in the train set: 2000, number of used features: 57\n",
      "[LightGBM] [Warning] Found whitespace in feature_names, replace with underlines\n",
      "[LightGBM] [Info] Start training from score 150009.106000\n",
      "Training until validation scores don't improve for 100 rounds\n",
      "[10]\tvalid_0's rmse: 30336.1\n",
      "[20]\tvalid_0's rmse: 30128.7\n",
      "[30]\tvalid_0's rmse: 30277.7\n",
      "[40]\tvalid_0's rmse: 30249.6\n",
      "[50]\tvalid_0's rmse: 30305\n",
      "[60]\tvalid_0's rmse: 30316.7\n",
      "[70]\tvalid_0's rmse: 30431.9\n",
      "[80]\tvalid_0's rmse: 30499\n",
      "[90]\tvalid_0's rmse: 30579.4\n",
      "[100]\tvalid_0's rmse: 30591.6\n",
      "[110]\tvalid_0's rmse: 30640.7\n",
      "Early stopping, best iteration is:\n",
      "[18]\tvalid_0's rmse: 30106.5\n",
      "RMSE: 30106.5034404236\n",
      "[28016.466428316155, 26514.69247199764, 30106.5034404236]\n",
      "Average: 28212.554113579128\n"
     ]
    },
    {
     "data": {
      "text/html": [
       "<div>\n",
       "<style scoped>\n",
       "    .dataframe tbody tr th:only-of-type {\n",
       "        vertical-align: middle;\n",
       "    }\n",
       "\n",
       "    .dataframe tbody tr th {\n",
       "        vertical-align: top;\n",
       "    }\n",
       "\n",
       "    .dataframe thead th {\n",
       "        text-align: right;\n",
       "    }\n",
       "</style>\n",
       "<table border=\"1\" class=\"dataframe\">\n",
       "  <thead>\n",
       "    <tr style=\"text-align: right;\">\n",
       "      <th></th>\n",
       "      <th>index</th>\n",
       "      <th>SalePrice</th>\n",
       "    </tr>\n",
       "  </thead>\n",
       "  <tbody>\n",
       "    <tr>\n",
       "      <th>0</th>\n",
       "      <td>398</td>\n",
       "      <td>149460.526957</td>\n",
       "    </tr>\n",
       "    <tr>\n",
       "      <th>1</th>\n",
       "      <td>3833</td>\n",
       "      <td>156760.173840</td>\n",
       "    </tr>\n",
       "    <tr>\n",
       "      <th>2</th>\n",
       "      <td>4836</td>\n",
       "      <td>149820.305449</td>\n",
       "    </tr>\n",
       "    <tr>\n",
       "      <th>3</th>\n",
       "      <td>4572</td>\n",
       "      <td>143938.141534</td>\n",
       "    </tr>\n",
       "    <tr>\n",
       "      <th>4</th>\n",
       "      <td>636</td>\n",
       "      <td>156270.020191</td>\n",
       "    </tr>\n",
       "    <tr>\n",
       "      <th>5</th>\n",
       "      <td>2545</td>\n",
       "      <td>159864.198512</td>\n",
       "    </tr>\n",
       "    <tr>\n",
       "      <th>6</th>\n",
       "      <td>1161</td>\n",
       "      <td>158629.194237</td>\n",
       "    </tr>\n",
       "    <tr>\n",
       "      <th>7</th>\n",
       "      <td>2230</td>\n",
       "      <td>156695.988530</td>\n",
       "    </tr>\n",
       "    <tr>\n",
       "      <th>8</th>\n",
       "      <td>148</td>\n",
       "      <td>153925.075779</td>\n",
       "    </tr>\n",
       "    <tr>\n",
       "      <th>9</th>\n",
       "      <td>2530</td>\n",
       "      <td>161709.551118</td>\n",
       "    </tr>\n",
       "  </tbody>\n",
       "</table>\n",
       "</div>"
      ],
      "text/plain": [
       "   index      SalePrice\n",
       "0    398  149460.526957\n",
       "1   3833  156760.173840\n",
       "2   4836  149820.305449\n",
       "3   4572  143938.141534\n",
       "4    636  156270.020191\n",
       "5   2545  159864.198512\n",
       "6   1161  158629.194237\n",
       "7   2230  156695.988530\n",
       "8    148  153925.075779\n",
       "9   2530  161709.551118"
      ]
     },
     "metadata": {},
     "output_type": "display_data"
    }
   ],
   "source": [
    "import lightgbm as lgb\n",
    "from sklearn.model_selection import KFold\n",
    "from sklearn.metrics import mean_squared_error\n",
    "\n",
    "lgb_params = {\n",
    "    \"objective\":\"regression\",\n",
    "    \"metric\": \"rmse\",\n",
    "    \"random_state\": 42\n",
    "}\n",
    "\n",
    "cv = KFold(n_splits=3, random_state=42, shuffle=True)\n",
    "rmse_results = []\n",
    "lgbm_models = []\n",
    "# 検証データの予測値を保存するための配列。\n",
    "test_preds = np.zeros(len(X_test))\n",
    "feature_importance_df = pd.DataFrame({\"feature_names\":[], \"importances\":[]})\n",
    "\n",
    "\n",
    "for trn_index, val_index in cv.split(X_train, y_train):\n",
    "    X_trn, X_val = X_train.loc[trn_index], X_train.loc[val_index]\n",
    "    y_trn, y_val = y_train[trn_index], y_train[val_index]\n",
    "    # 学習/評価データを格納\n",
    "    train_lgb = lgb.Dataset(X_trn, y_trn)\n",
    "    # 学習\n",
    "    validation_lgb = lgb.Dataset(X_val, y_val)\n",
    "    model = lgb.train(\n",
    "        lgb_params, train_lgb, \n",
    "        num_boost_round=1000, valid_sets=[validation_lgb], \n",
    "        callbacks=[lgb.log_evaluation(period=10),lgb.early_stopping(100)]\n",
    "        )\n",
    "    # テストデータによる予測\n",
    "    pred = model.predict(X_val)\n",
    "    rmse = np.sqrt(mean_squared_error(y_val, pred))\n",
    "    print(\"RMSE:\", rmse)\n",
    "    rmse_results.append(rmse)\n",
    "    lgbm_models.append(model)\n",
    "    feature_importance_df = pd.concat((feature_importance_df, pd.DataFrame(\n",
    "        {\"feature_names\": model.feature_name(), \"importances\": model.feature_importance(\"gain\")})))\n",
    "    \n",
    "    test_preds += model.predict(X_test) / cv.n_splits\n",
    "\n",
    "print(rmse_results)\n",
    "print(\"Average:\", np.mean(rmse_results))\n",
    "\n",
    "submission = pd.read_csv('../data/sample_submit.csv', header=None, names=['index', 'SalePrice'])\n",
    "submission['SalePrice']  = test_preds\n",
    "display(submission.head(10))"
   ]
  },
  {
   "cell_type": "code",
   "execution_count": 24,
   "id": "b617b59e-54f8-49b6-a170-32188d8e4177",
   "metadata": {},
   "outputs": [
    {
     "data": {
      "text/html": [
       "<div>\n",
       "<style scoped>\n",
       "    .dataframe tbody tr th:only-of-type {\n",
       "        vertical-align: middle;\n",
       "    }\n",
       "\n",
       "    .dataframe tbody tr th {\n",
       "        vertical-align: top;\n",
       "    }\n",
       "\n",
       "    .dataframe thead th {\n",
       "        text-align: right;\n",
       "    }\n",
       "</style>\n",
       "<table border=\"1\" class=\"dataframe\">\n",
       "  <thead>\n",
       "    <tr style=\"text-align: right;\">\n",
       "      <th></th>\n",
       "      <th>importances</th>\n",
       "    </tr>\n",
       "    <tr>\n",
       "      <th>feature_names</th>\n",
       "      <th></th>\n",
       "    </tr>\n",
       "  </thead>\n",
       "  <tbody>\n",
       "    <tr>\n",
       "      <th>Garage_Cars</th>\n",
       "      <td>7.275643e+11</td>\n",
       "    </tr>\n",
       "    <tr>\n",
       "      <th>Full_Bath</th>\n",
       "      <td>4.701791e+11</td>\n",
       "    </tr>\n",
       "    <tr>\n",
       "      <th>Garage_Area</th>\n",
       "      <td>3.063330e+11</td>\n",
       "    </tr>\n",
       "    <tr>\n",
       "      <th>Gr_Liv_Area</th>\n",
       "      <td>2.744579e+11</td>\n",
       "    </tr>\n",
       "    <tr>\n",
       "      <th>Bsmt_Unf_SF</th>\n",
       "      <td>2.286502e+11</td>\n",
       "    </tr>\n",
       "    <tr>\n",
       "      <th>Year_Built</th>\n",
       "      <td>2.259545e+11</td>\n",
       "    </tr>\n",
       "    <tr>\n",
       "      <th>BsmtFin_SF_1</th>\n",
       "      <td>2.206847e+11</td>\n",
       "    </tr>\n",
       "    <tr>\n",
       "      <th>Total_sqr_footage</th>\n",
       "      <td>2.157363e+11</td>\n",
       "    </tr>\n",
       "    <tr>\n",
       "      <th>Total_Bsmt_SF</th>\n",
       "      <td>2.105967e+11</td>\n",
       "    </tr>\n",
       "    <tr>\n",
       "      <th>Exter_Qual</th>\n",
       "      <td>2.016872e+11</td>\n",
       "    </tr>\n",
       "  </tbody>\n",
       "</table>\n",
       "</div>"
      ],
      "text/plain": [
       "                    importances\n",
       "feature_names                  \n",
       "Garage_Cars        7.275643e+11\n",
       "Full_Bath          4.701791e+11\n",
       "Garage_Area        3.063330e+11\n",
       "Gr_Liv_Area        2.744579e+11\n",
       "Bsmt_Unf_SF        2.286502e+11\n",
       "Year_Built         2.259545e+11\n",
       "BsmtFin_SF_1       2.206847e+11\n",
       "Total_sqr_footage  2.157363e+11\n",
       "Total_Bsmt_SF      2.105967e+11\n",
       "Exter_Qual         2.016872e+11"
      ]
     },
     "metadata": {},
     "output_type": "display_data"
    },
    {
     "data": {
      "text/plain": [
       "<Axes: xlabel='importances', ylabel='feature_names'>"
      ]
     },
     "execution_count": 24,
     "metadata": {},
     "output_type": "execute_result"
    },
    {
     "data": {
      "image/png": "[encoded data removed]",
      "text/plain": [
       "<Figure size 640x480 with 1 Axes>"
      ]
     },
     "metadata": {},
     "output_type": "display_data"
    }
   ],
   "source": [
    "# 特徴量重要度の平均を算出して表を出力\n",
    "display(feature_importance_df.groupby(\"feature_names\").mean().sort_values(\"importances\", ascending=False).head(10))\n",
    "# 特徴量重要度を棒グラフで可視化\n",
    "sns.barplot(x=\"importances\", y=\"feature_names\", \n",
    "            data=feature_importance_df.groupby(\"feature_names\").mean().sort_values(\"importances\", ascending=False)[:10].reset_index()\n",
    "           )"
   ]
  },
  {
   "cell_type": "code",
   "execution_count": 25,
   "id": "eba9e309-d0fb-48fa-ad2d-94e6a0acfd48",
   "metadata": {},
   "outputs": [],
   "source": [
    "# 提出ファイルを出力\n",
    "submission.to_csv(\"third_submit.csv\", index=False, header = False)"
   ]
  },
  {
   "cell_type": "markdown",
   "id": "0d2509af-3935-4fa3-957a-7485e3d6c880",
   "metadata": {},
   "source": [
    "#### 参考サイト\n",
    "https://qiita.com/ku_a_i/items/74241c84cda8c7327277"
   ]
  }
 ],
 "metadata": {
  "kernelspec": {
   "display_name": "Python 3 (ipykernel)",
   "language": "python",
   "name": "python3"
  },
  "language_info": {
   "codemirror_mode": {
    "name": "ipython",
    "version": 3
   },
   "file_extension": ".py",
   "mimetype": "text/x-python",
   "name": "python",
   "nbconvert_exporter": "python",
   "pygments_lexer": "ipython3",
   "version": "3.9.19"
  }
 },
 "nbformat": 4,
 "nbformat_minor": 5
}
